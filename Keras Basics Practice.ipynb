{
 "cells": [
  {
   "cell_type": "code",
   "execution_count": 1,
   "metadata": {},
   "outputs": [],
   "source": [
    "#Import Library\n",
    "import numpy as np"
   ]
  },
  {
   "cell_type": "markdown",
   "metadata": {},
   "source": [
    "# Dataset\n",
    "Used the Bank Authentication Data Set to start off with. This data set consists of various image features derived from images that had 400 x 400 pixels.The data itself that we will be using ARE NOT ACTUAL IMAGES, they are features of images. \n",
    "More info on the data set:\n",
    "\n",
    "https://archive.ics.uci.edu/ml/datasets/banknote+authentication\n",
    "\n",
    "Data were extracted from images that were taken from genuine and forged banknote-like specimens. For digitization, an industrial camera usually used for print inspection was used. The final images have 400x 400 pixels. Due to the object lens and distance to the investigated object gray-scale pictures with a resolution of about 660 dpi were gained. Wavelet Transform tool were used to extract features from images.\n",
    "\n",
    "Attribute Information:\n",
    "\n",
    "variance of Wavelet Transformed image (continuous)\n",
    "skewness of Wavelet Transformed image (continuous)\n",
    "curtosis of Wavelet Transformed image (continuous)\n",
    "entropy of image (continuous)\n",
    "class (integer)\n"
   ]
  },
  {
   "cell_type": "code",
   "execution_count": 2,
   "metadata": {},
   "outputs": [],
   "source": [
    "#Reading the Data\n",
    "from numpy import genfromtxt\n",
    "data = genfromtxt('../DATA/bank_note_data.txt', delimiter=',')"
   ]
  },
  {
   "cell_type": "code",
   "execution_count": 3,
   "metadata": {},
   "outputs": [
    {
     "data": {
      "text/plain": [
       "array([[  3.6216 ,   8.6661 ,  -2.8073 ,  -0.44699,   0.     ],\n",
       "       [  4.5459 ,   8.1674 ,  -2.4586 ,  -1.4621 ,   0.     ],\n",
       "       [  3.866  ,  -2.6383 ,   1.9242 ,   0.10645,   0.     ],\n",
       "       ...,\n",
       "       [ -3.7503 , -13.4586 ,  17.5932 ,  -2.7771 ,   1.     ],\n",
       "       [ -3.5637 ,  -8.3827 ,  12.393  ,  -1.2823 ,   1.     ],\n",
       "       [ -2.5419 ,  -0.65804,   2.6842 ,   1.1952 ,   1.     ]])"
      ]
     },
     "execution_count": 3,
     "metadata": {},
     "output_type": "execute_result"
    }
   ],
   "source": [
    "data"
   ]
  },
  {
   "cell_type": "code",
   "execution_count": 4,
   "metadata": {},
   "outputs": [],
   "source": [
    "#Explore Features and Labels\n",
    "labels=data[:,4]"
   ]
  },
  {
   "cell_type": "code",
   "execution_count": 5,
   "metadata": {},
   "outputs": [
    {
     "data": {
      "text/plain": [
       "array([0., 0., 0., ..., 1., 1., 1.])"
      ]
     },
     "execution_count": 5,
     "metadata": {},
     "output_type": "execute_result"
    }
   ],
   "source": [
    "labels"
   ]
  },
  {
   "cell_type": "code",
   "execution_count": 8,
   "metadata": {},
   "outputs": [],
   "source": [
    "features=data[:,0:4]"
   ]
  },
  {
   "cell_type": "code",
   "execution_count": 9,
   "metadata": {},
   "outputs": [
    {
     "data": {
      "text/plain": [
       "array([[  3.6216 ,   8.6661 ,  -2.8073 ,  -0.44699],\n",
       "       [  4.5459 ,   8.1674 ,  -2.4586 ,  -1.4621 ],\n",
       "       [  3.866  ,  -2.6383 ,   1.9242 ,   0.10645],\n",
       "       ...,\n",
       "       [ -3.7503 , -13.4586 ,  17.5932 ,  -2.7771 ],\n",
       "       [ -3.5637 ,  -8.3827 ,  12.393  ,  -1.2823 ],\n",
       "       [ -2.5419 ,  -0.65804,   2.6842 ,   1.1952 ]])"
      ]
     },
     "execution_count": 9,
     "metadata": {},
     "output_type": "execute_result"
    }
   ],
   "source": [
    "features"
   ]
  },
  {
   "cell_type": "code",
   "execution_count": 10,
   "metadata": {},
   "outputs": [],
   "source": [
    "X=features\n",
    "y=labels"
   ]
  },
  {
   "cell_type": "markdown",
   "metadata": {},
   "source": [
    "# Split the Data into Training and Test\n",
    "split the data into a train/test set using sklearn"
   ]
  },
  {
   "cell_type": "code",
   "execution_count": 11,
   "metadata": {},
   "outputs": [],
   "source": [
    "#Spliting Data into Training and testing set"
   ]
  },
  {
   "cell_type": "code",
   "execution_count": 12,
   "metadata": {},
   "outputs": [],
   "source": [
    "from sklearn.model_selection import train_test_split"
   ]
  },
  {
   "cell_type": "code",
   "execution_count": 13,
   "metadata": {},
   "outputs": [],
   "source": [
    "X_train,X_test,y_train,y_test=train_test_split(X,y,test_size=0.33,random_state=42)"
   ]
  },
  {
   "cell_type": "code",
   "execution_count": 14,
   "metadata": {},
   "outputs": [
    {
     "data": {
      "text/plain": [
       "919"
      ]
     },
     "execution_count": 14,
     "metadata": {},
     "output_type": "execute_result"
    }
   ],
   "source": [
    "len(X_train)"
   ]
  },
  {
   "cell_type": "code",
   "execution_count": 15,
   "metadata": {},
   "outputs": [
    {
     "data": {
      "text/plain": [
       "1372"
      ]
     },
     "execution_count": 15,
     "metadata": {},
     "output_type": "execute_result"
    }
   ],
   "source": [
    "len(X)"
   ]
  },
  {
   "cell_type": "markdown",
   "metadata": {},
   "source": [
    "# Standardizing the Data\n",
    "standardize the data to get better performance using Neural Networks.Standardization means normalizing the values to all fit between a certain range, like 0-1, or -1 to 1.\n",
    "\n",
    "The scikit learn library also provides a nice function for this.\n",
    "\n",
    "http://scikit-learn.org/stable/modules/generated/sklearn.preprocessing.MinMaxScaler.html"
   ]
  },
  {
   "cell_type": "code",
   "execution_count": 17,
   "metadata": {},
   "outputs": [],
   "source": [
    "from sklearn.preprocessing import MinMaxScaler\n"
   ]
  },
  {
   "cell_type": "code",
   "execution_count": 18,
   "metadata": {},
   "outputs": [],
   "source": [
    "scaler_object=MinMaxScaler()"
   ]
  },
  {
   "cell_type": "code",
   "execution_count": 19,
   "metadata": {},
   "outputs": [
    {
     "data": {
      "text/plain": [
       "MinMaxScaler(copy=True, feature_range=(0, 1))"
      ]
     },
     "execution_count": 19,
     "metadata": {},
     "output_type": "execute_result"
    }
   ],
   "source": [
    "#Fitting scaler on training data(find min and max values)\n",
    "scaler_object.fit(X_train)"
   ]
  },
  {
   "cell_type": "code",
   "execution_count": 20,
   "metadata": {},
   "outputs": [],
   "source": [
    "scaled_X_train=scaler_object.transform(X_train)"
   ]
  },
  {
   "cell_type": "code",
   "execution_count": 21,
   "metadata": {},
   "outputs": [],
   "source": [
    "scaled_X_test=scaler_object.transform(X_test)"
   ]
  },
  {
   "cell_type": "code",
   "execution_count": 22,
   "metadata": {},
   "outputs": [
    {
     "data": {
      "text/plain": [
       "1.0000000000000002"
      ]
     },
     "execution_count": 22,
     "metadata": {},
     "output_type": "execute_result"
    }
   ],
   "source": [
    "scaled_X_train.max()"
   ]
  },
  {
   "cell_type": "markdown",
   "metadata": {},
   "source": [
    "# Building the Network with Keras\n",
    "Let's build a simple neural network!"
   ]
  },
  {
   "cell_type": "code",
   "execution_count": 24,
   "metadata": {},
   "outputs": [],
   "source": [
    "from keras.models import Sequential\n",
    "from keras.layers import Dense"
   ]
  },
  {
   "cell_type": "code",
   "execution_count": 26,
   "metadata": {},
   "outputs": [],
   "source": [
    "#create model\n",
    "model=Sequential()\n",
    "#Input layer\n",
    "model.add(Dense(4,input_dim=4,activation='relu'))\n",
    "#Middle layer(add another dense layer)\n",
    "model.add(Dense(8,activation='relu'))\n",
    "#Output layer(0 0r 1)\n",
    "model.add(Dense(1,activation='sigmoid'))\n"
   ]
  },
  {
   "cell_type": "code",
   "execution_count": 27,
   "metadata": {},
   "outputs": [
    {
     "name": "stdout",
     "output_type": "stream",
     "text": [
      "WARNING:tensorflow:From C:\\Users\\Uma\\Anacondanew\\envs\\tensorenviron\\lib\\site-packages\\tensorflow\\python\\ops\\nn_impl.py:180: add_dispatch_support.<locals>.wrapper (from tensorflow.python.ops.array_ops) is deprecated and will be removed in a future version.\n",
      "Instructions for updating:\n",
      "Use tf.where in 2.0, which has the same broadcast rule as np.where\n"
     ]
    }
   ],
   "source": [
    "#Compile model\n",
    "model.compile(loss='binary_crossentropy', optimizer='adam', metrics=['accuracy'])\n"
   ]
  },
  {
   "cell_type": "code",
   "execution_count": 30,
   "metadata": {},
   "outputs": [
    {
     "name": "stdout",
     "output_type": "stream",
     "text": [
      "Epoch 1/50\n",
      " - 0s - loss: 0.3702 - accuracy: 0.8705\n",
      "Epoch 2/50\n",
      " - 0s - loss: 0.3626 - accuracy: 0.8770\n",
      "Epoch 3/50\n",
      " - 0s - loss: 0.3559 - accuracy: 0.8857\n",
      "Epoch 4/50\n",
      " - 0s - loss: 0.3486 - accuracy: 0.8814\n",
      "Epoch 5/50\n",
      " - 0s - loss: 0.3443 - accuracy: 0.8966\n",
      "Epoch 6/50\n",
      " - 0s - loss: 0.3354 - accuracy: 0.8912\n",
      "Epoch 7/50\n",
      " - 0s - loss: 0.3274 - accuracy: 0.9010\n",
      "Epoch 8/50\n",
      " - 0s - loss: 0.3204 - accuracy: 0.9086\n",
      "Epoch 9/50\n",
      " - 0s - loss: 0.3136 - accuracy: 0.9119\n",
      "Epoch 10/50\n",
      " - 0s - loss: 0.3064 - accuracy: 0.9184\n",
      "Epoch 11/50\n",
      " - 0s - loss: 0.3002 - accuracy: 0.9206\n",
      "Epoch 12/50\n",
      " - 0s - loss: 0.2929 - accuracy: 0.9249\n",
      "Epoch 13/50\n",
      " - 0s - loss: 0.2868 - accuracy: 0.9314\n",
      "Epoch 14/50\n",
      " - 0s - loss: 0.2805 - accuracy: 0.9325\n",
      "Epoch 15/50\n",
      " - 0s - loss: 0.2737 - accuracy: 0.9402\n",
      "Epoch 16/50\n",
      " - 0s - loss: 0.2675 - accuracy: 0.9402\n",
      "Epoch 17/50\n",
      " - 0s - loss: 0.2618 - accuracy: 0.9423\n",
      "Epoch 18/50\n",
      " - 0s - loss: 0.2556 - accuracy: 0.9445\n",
      "Epoch 19/50\n",
      " - 0s - loss: 0.2504 - accuracy: 0.9456\n",
      "Epoch 20/50\n",
      " - 0s - loss: 0.2450 - accuracy: 0.9445\n",
      "Epoch 21/50\n",
      " - 0s - loss: 0.2395 - accuracy: 0.9456\n",
      "Epoch 22/50\n",
      " - 0s - loss: 0.2343 - accuracy: 0.9521\n",
      "Epoch 23/50\n",
      " - 0s - loss: 0.2297 - accuracy: 0.9510\n",
      "Epoch 24/50\n",
      " - 0s - loss: 0.2247 - accuracy: 0.9565\n",
      "Epoch 25/50\n",
      " - 0s - loss: 0.2199 - accuracy: 0.9576\n",
      "Epoch 26/50\n",
      " - 0s - loss: 0.2155 - accuracy: 0.9608\n",
      "Epoch 27/50\n",
      " - 0s - loss: 0.2113 - accuracy: 0.9597\n",
      "Epoch 28/50\n",
      " - 0s - loss: 0.2072 - accuracy: 0.9608\n",
      "Epoch 29/50\n",
      " - 0s - loss: 0.2039 - accuracy: 0.9597\n",
      "Epoch 30/50\n",
      " - 0s - loss: 0.1999 - accuracy: 0.9608\n",
      "Epoch 31/50\n",
      " - 0s - loss: 0.1962 - accuracy: 0.9630\n",
      "Epoch 32/50\n",
      " - 0s - loss: 0.1931 - accuracy: 0.9608\n",
      "Epoch 33/50\n",
      " - 0s - loss: 0.1888 - accuracy: 0.9630\n",
      "Epoch 34/50\n",
      " - 0s - loss: 0.1853 - accuracy: 0.9641\n",
      "Epoch 35/50\n",
      " - 0s - loss: 0.1824 - accuracy: 0.9619\n",
      "Epoch 36/50\n",
      " - 0s - loss: 0.1789 - accuracy: 0.9641\n",
      "Epoch 37/50\n",
      " - 0s - loss: 0.1759 - accuracy: 0.9641\n",
      "Epoch 38/50\n",
      " - 0s - loss: 0.1731 - accuracy: 0.9587\n",
      "Epoch 39/50\n",
      " - 0s - loss: 0.1707 - accuracy: 0.9608\n",
      "Epoch 40/50\n",
      " - 0s - loss: 0.1671 - accuracy: 0.9619\n",
      "Epoch 41/50\n",
      " - 0s - loss: 0.1648 - accuracy: 0.9630\n",
      "Epoch 42/50\n",
      " - 0s - loss: 0.1622 - accuracy: 0.9641\n",
      "Epoch 43/50\n",
      " - 0s - loss: 0.1604 - accuracy: 0.9630\n",
      "Epoch 44/50\n",
      " - 0s - loss: 0.1573 - accuracy: 0.9619\n",
      "Epoch 45/50\n",
      " - 0s - loss: 0.1544 - accuracy: 0.9608\n",
      "Epoch 46/50\n",
      " - 0s - loss: 0.1520 - accuracy: 0.9608\n",
      "Epoch 47/50\n",
      " - 0s - loss: 0.1497 - accuracy: 0.9619\n",
      "Epoch 48/50\n",
      " - 0s - loss: 0.1480 - accuracy: 0.9641\n",
      "Epoch 49/50\n",
      " - 0s - loss: 0.1456 - accuracy: 0.9652\n",
      "Epoch 50/50\n",
      " - 0s - loss: 0.1434 - accuracy: 0.9641\n"
     ]
    },
    {
     "data": {
      "text/plain": [
       "<keras.callbacks.callbacks.History at 0x1b61f0364c8>"
      ]
     },
     "execution_count": 30,
     "metadata": {},
     "output_type": "execute_result"
    }
   ],
   "source": [
    "#Train the model\n",
    "model.fit(scaled_X_train,y_train,epochs=50, verbose=2)"
   ]
  },
  {
   "cell_type": "code",
   "execution_count": 31,
   "metadata": {},
   "outputs": [
    {
     "data": {
      "text/plain": [
       "array([[2.90048718e-02],\n",
       "       [4.38106775e-01],\n",
       "       [2.49689549e-01],\n",
       "       [2.07172334e-02],\n",
       "       [2.66330838e-02],\n",
       "       [1.12793148e-02],\n",
       "       [8.83082747e-02],\n",
       "       [5.20208478e-03],\n",
       "       [1.85372233e-02],\n",
       "       [4.70302701e-02],\n",
       "       [6.01858974e-01],\n",
       "       [8.64392102e-01],\n",
       "       [5.46897948e-02],\n",
       "       [8.10199499e-01],\n",
       "       [2.80939698e-01],\n",
       "       [3.85973006e-01],\n",
       "       [8.64392102e-01],\n",
       "       [8.64392102e-01],\n",
       "       [7.84823060e-01],\n",
       "       [8.16724062e-01],\n",
       "       [1.44496858e-02],\n",
       "       [2.78442502e-02],\n",
       "       [8.46602678e-01],\n",
       "       [8.99374485e-03],\n",
       "       [8.64392102e-01],\n",
       "       [1.07272565e-02],\n",
       "       [4.55096364e-03],\n",
       "       [8.64392102e-01],\n",
       "       [2.87532806e-04],\n",
       "       [1.19861960e-03],\n",
       "       [8.63997221e-01],\n",
       "       [4.42237556e-02],\n",
       "       [7.78888166e-02],\n",
       "       [8.64392102e-01],\n",
       "       [8.64392102e-01],\n",
       "       [4.54828143e-03],\n",
       "       [5.64492464e-01],\n",
       "       [8.62422943e-01],\n",
       "       [8.64392102e-01],\n",
       "       [3.56506109e-02],\n",
       "       [1.77341998e-02],\n",
       "       [8.53937626e-01],\n",
       "       [8.64392102e-01],\n",
       "       [1.85133815e-02],\n",
       "       [8.64392102e-01],\n",
       "       [8.44099343e-01],\n",
       "       [8.64392102e-01],\n",
       "       [2.20817327e-02],\n",
       "       [1.71591938e-02],\n",
       "       [4.60031986e-01],\n",
       "       [2.41378844e-02],\n",
       "       [4.59364057e-03],\n",
       "       [4.30152714e-02],\n",
       "       [7.66864419e-03],\n",
       "       [1.82065666e-01],\n",
       "       [8.23283851e-01],\n",
       "       [5.58864772e-02],\n",
       "       [3.50573659e-03],\n",
       "       [1.25109255e-02],\n",
       "       [6.73633814e-03],\n",
       "       [8.64392102e-01],\n",
       "       [2.30827928e-02],\n",
       "       [4.72699493e-01],\n",
       "       [2.44951248e-03],\n",
       "       [3.38734984e-02],\n",
       "       [4.49198484e-03],\n",
       "       [1.23559833e-02],\n",
       "       [4.62262034e-02],\n",
       "       [3.45658064e-01],\n",
       "       [4.57780778e-01],\n",
       "       [7.83537924e-01],\n",
       "       [1.47519708e-02],\n",
       "       [7.52682686e-01],\n",
       "       [1.70207024e-03],\n",
       "       [8.01123857e-01],\n",
       "       [4.41552430e-01],\n",
       "       [1.89477503e-02],\n",
       "       [8.64392102e-01],\n",
       "       [8.64392102e-01],\n",
       "       [7.53141165e-01],\n",
       "       [7.45050192e-01],\n",
       "       [1.89338893e-01],\n",
       "       [5.92332304e-01],\n",
       "       [1.21217668e-02],\n",
       "       [7.30211437e-02],\n",
       "       [1.05622411e-03],\n",
       "       [1.94287896e-02],\n",
       "       [8.64392102e-01],\n",
       "       [3.06749821e-01],\n",
       "       [3.81205678e-02],\n",
       "       [1.13605261e-02],\n",
       "       [1.44098103e-02],\n",
       "       [7.50250220e-01],\n",
       "       [8.64392102e-01],\n",
       "       [1.84580088e-02],\n",
       "       [8.64392102e-01],\n",
       "       [8.64392102e-01],\n",
       "       [1.12596571e-01],\n",
       "       [1.46008134e-02],\n",
       "       [8.33408237e-02],\n",
       "       [8.64392102e-01],\n",
       "       [1.20888352e-02],\n",
       "       [9.67578292e-02],\n",
       "       [3.16745341e-02],\n",
       "       [8.64392102e-01],\n",
       "       [4.91675735e-03],\n",
       "       [2.52858996e-02],\n",
       "       [5.52249193e-01],\n",
       "       [8.63919973e-01],\n",
       "       [7.86049843e-01],\n",
       "       [8.64392102e-01],\n",
       "       [7.53596187e-01],\n",
       "       [5.21513820e-03],\n",
       "       [8.64392102e-01],\n",
       "       [8.64392102e-01],\n",
       "       [8.64392102e-01],\n",
       "       [2.03874707e-03],\n",
       "       [8.64392102e-01],\n",
       "       [8.64392102e-01],\n",
       "       [9.35092568e-03],\n",
       "       [7.94205964e-01],\n",
       "       [4.08855081e-02],\n",
       "       [6.53129697e-01],\n",
       "       [7.08082318e-03],\n",
       "       [2.36519635e-01],\n",
       "       [7.08086193e-02],\n",
       "       [8.64392102e-01],\n",
       "       [8.41425598e-01],\n",
       "       [5.15527129e-02],\n",
       "       [8.64392102e-01],\n",
       "       [8.64392102e-01],\n",
       "       [2.93090641e-02],\n",
       "       [5.01231551e-02],\n",
       "       [2.11986899e-02],\n",
       "       [1.78414583e-03],\n",
       "       [3.48923504e-02],\n",
       "       [8.64392102e-01],\n",
       "       [1.03160739e-03],\n",
       "       [7.80961514e-02],\n",
       "       [7.87552536e-01],\n",
       "       [2.28432119e-02],\n",
       "       [2.77092755e-02],\n",
       "       [8.64392102e-01],\n",
       "       [1.18919313e-02],\n",
       "       [7.16750741e-01],\n",
       "       [2.23470330e-01],\n",
       "       [3.83727282e-01],\n",
       "       [6.25542700e-01],\n",
       "       [7.32642770e-01],\n",
       "       [1.43549740e-02],\n",
       "       [5.78491271e-01],\n",
       "       [8.64392102e-01],\n",
       "       [8.64392102e-01],\n",
       "       [6.53803349e-04],\n",
       "       [7.70720541e-01],\n",
       "       [5.29840589e-03],\n",
       "       [8.34142685e-01],\n",
       "       [6.51317239e-02],\n",
       "       [4.45750952e-02],\n",
       "       [3.45530808e-02],\n",
       "       [8.64392102e-01],\n",
       "       [8.64392102e-01],\n",
       "       [8.64392102e-01],\n",
       "       [8.64392102e-01],\n",
       "       [8.19543898e-01],\n",
       "       [1.20580196e-02],\n",
       "       [8.64392102e-01],\n",
       "       [1.32451952e-02],\n",
       "       [3.84980440e-03],\n",
       "       [2.17710435e-02],\n",
       "       [2.44906515e-01],\n",
       "       [9.67106223e-03],\n",
       "       [3.96941304e-02],\n",
       "       [8.64392102e-01],\n",
       "       [1.62348747e-02],\n",
       "       [2.16022432e-02],\n",
       "       [8.64392102e-01],\n",
       "       [8.64392102e-01],\n",
       "       [1.29740417e-01],\n",
       "       [4.27269936e-03],\n",
       "       [1.23114288e-01],\n",
       "       [3.42038870e-02],\n",
       "       [8.64392102e-01],\n",
       "       [2.64893472e-02],\n",
       "       [8.64392102e-01],\n",
       "       [1.92615986e-02],\n",
       "       [7.84571528e-01],\n",
       "       [8.64392102e-01],\n",
       "       [4.37077880e-03],\n",
       "       [2.56884694e-02],\n",
       "       [8.64392102e-01],\n",
       "       [1.42456293e-02],\n",
       "       [9.26356018e-02],\n",
       "       [8.64392102e-01],\n",
       "       [8.64392102e-01],\n",
       "       [8.64392102e-01],\n",
       "       [8.17917943e-01],\n",
       "       [1.81218803e-01],\n",
       "       [2.93145597e-01],\n",
       "       [8.64392102e-01],\n",
       "       [8.64392102e-01],\n",
       "       [8.64392102e-01],\n",
       "       [2.10862458e-02],\n",
       "       [3.47114801e-02],\n",
       "       [8.64392102e-01],\n",
       "       [8.64392102e-01],\n",
       "       [8.64392102e-01],\n",
       "       [7.73919344e-01],\n",
       "       [1.36382133e-01],\n",
       "       [1.36750340e-02],\n",
       "       [4.44712371e-01],\n",
       "       [3.12677026e-03],\n",
       "       [6.19403720e-02],\n",
       "       [1.13752753e-01],\n",
       "       [5.26061654e-03],\n",
       "       [3.95831466e-03],\n",
       "       [4.41552430e-01],\n",
       "       [4.63602245e-02],\n",
       "       [8.64392102e-01],\n",
       "       [8.61094832e-01],\n",
       "       [8.64392102e-01],\n",
       "       [8.64392102e-01],\n",
       "       [8.64392102e-01],\n",
       "       [2.20856965e-02],\n",
       "       [8.64392102e-01],\n",
       "       [5.91659546e-03],\n",
       "       [5.36787510e-02],\n",
       "       [8.64392102e-01],\n",
       "       [8.20813596e-01],\n",
       "       [8.64392102e-01],\n",
       "       [8.64392102e-01],\n",
       "       [3.52515876e-02],\n",
       "       [7.34533548e-01],\n",
       "       [1.99645758e-03],\n",
       "       [7.77780414e-01],\n",
       "       [8.64392102e-01],\n",
       "       [8.54925513e-01],\n",
       "       [8.64392102e-01],\n",
       "       [3.43480706e-02],\n",
       "       [1.85543299e-02],\n",
       "       [1.68863267e-01],\n",
       "       [8.62809718e-01],\n",
       "       [1.90816522e-02],\n",
       "       [8.64392102e-01],\n",
       "       [8.64392102e-01],\n",
       "       [8.64392102e-01],\n",
       "       [3.00842226e-02],\n",
       "       [1.93334222e-02],\n",
       "       [8.53818655e-03],\n",
       "       [2.23370194e-02],\n",
       "       [9.98526812e-04],\n",
       "       [2.66859233e-02],\n",
       "       [8.64392102e-01],\n",
       "       [2.72242635e-01],\n",
       "       [1.74513817e-01],\n",
       "       [2.01880336e-02],\n",
       "       [1.08881891e-02],\n",
       "       [1.25202537e-02],\n",
       "       [8.64392102e-01],\n",
       "       [8.64392102e-01],\n",
       "       [1.80583298e-02],\n",
       "       [8.49469900e-02],\n",
       "       [1.03124082e-02],\n",
       "       [8.64392102e-01],\n",
       "       [8.06859732e-01],\n",
       "       [1.59579515e-02],\n",
       "       [8.64392102e-01],\n",
       "       [2.41328776e-02],\n",
       "       [8.64392102e-01],\n",
       "       [8.42779040e-01],\n",
       "       [8.64392102e-01],\n",
       "       [6.90164685e-01],\n",
       "       [3.30849588e-02],\n",
       "       [4.38100874e-01],\n",
       "       [4.06029820e-03],\n",
       "       [1.48444176e-02],\n",
       "       [2.18147337e-02],\n",
       "       [8.64392102e-01],\n",
       "       [4.94620204e-03],\n",
       "       [1.01049751e-01],\n",
       "       [8.64392102e-01],\n",
       "       [2.18972564e-03],\n",
       "       [8.64392102e-01],\n",
       "       [3.97318602e-03],\n",
       "       [2.66107917e-02],\n",
       "       [8.64392102e-01],\n",
       "       [3.57168913e-03],\n",
       "       [2.62194574e-02],\n",
       "       [6.42517209e-03],\n",
       "       [8.07131231e-02],\n",
       "       [1.66228116e-02],\n",
       "       [8.64392102e-01],\n",
       "       [8.64392102e-01],\n",
       "       [2.07563639e-02],\n",
       "       [8.64392102e-01],\n",
       "       [2.01966763e-02],\n",
       "       [8.18213701e-01],\n",
       "       [8.64392102e-01],\n",
       "       [1.60086155e-03],\n",
       "       [4.44707245e-01],\n",
       "       [6.47519827e-02],\n",
       "       [4.03389335e-03],\n",
       "       [1.29186809e-02],\n",
       "       [3.24769616e-02],\n",
       "       [2.73158252e-02],\n",
       "       [8.64392102e-01],\n",
       "       [8.64392102e-01],\n",
       "       [8.64392102e-01],\n",
       "       [1.50760710e-02],\n",
       "       [1.35645270e-03],\n",
       "       [8.28440189e-01],\n",
       "       [7.87950635e-01],\n",
       "       [1.08388662e-02],\n",
       "       [1.00149155e-01],\n",
       "       [4.35643792e-02],\n",
       "       [1.67295337e-03],\n",
       "       [4.79716361e-02],\n",
       "       [2.94416547e-02],\n",
       "       [8.64392102e-01],\n",
       "       [6.11068904e-02],\n",
       "       [8.64392102e-01],\n",
       "       [7.23910928e-01],\n",
       "       [8.64392102e-01],\n",
       "       [3.80983949e-02],\n",
       "       [4.40165401e-03],\n",
       "       [1.32619441e-02],\n",
       "       [6.87927008e-04],\n",
       "       [7.77042329e-01],\n",
       "       [1.00690335e-01],\n",
       "       [7.69317150e-04],\n",
       "       [2.45299339e-02],\n",
       "       [3.50432396e-02],\n",
       "       [8.22466016e-02],\n",
       "       [3.22959125e-02],\n",
       "       [1.02278858e-01],\n",
       "       [8.64392102e-01],\n",
       "       [1.00155234e-01],\n",
       "       [6.91761672e-01],\n",
       "       [8.64392102e-01],\n",
       "       [7.63553262e-01],\n",
       "       [8.64392102e-01],\n",
       "       [1.03704035e-02],\n",
       "       [8.40216398e-01],\n",
       "       [8.64392102e-01],\n",
       "       [8.28373432e-03],\n",
       "       [8.64392102e-01],\n",
       "       [7.98598528e-01],\n",
       "       [1.60757899e-02],\n",
       "       [6.10916317e-02],\n",
       "       [7.46493638e-01],\n",
       "       [6.31932318e-02],\n",
       "       [9.21571255e-03],\n",
       "       [8.64392102e-01],\n",
       "       [3.58743668e-02],\n",
       "       [8.64392102e-01],\n",
       "       [3.78373265e-03],\n",
       "       [8.64392102e-01],\n",
       "       [8.64392102e-01],\n",
       "       [6.18964434e-03],\n",
       "       [8.60080123e-03],\n",
       "       [8.64392102e-01],\n",
       "       [4.40872610e-02],\n",
       "       [6.69295192e-02],\n",
       "       [5.91937602e-02],\n",
       "       [7.45296478e-04],\n",
       "       [1.57660246e-03],\n",
       "       [2.35209167e-02],\n",
       "       [8.64392102e-01],\n",
       "       [5.70032001e-02],\n",
       "       [2.50730813e-02],\n",
       "       [8.64392102e-01],\n",
       "       [4.01736349e-01],\n",
       "       [3.36177945e-02],\n",
       "       [9.73296463e-02],\n",
       "       [1.81380808e-02],\n",
       "       [8.55481803e-01],\n",
       "       [8.64392102e-01],\n",
       "       [1.41668320e-02],\n",
       "       [8.64392102e-01],\n",
       "       [1.18651986e-02],\n",
       "       [8.64392102e-01],\n",
       "       [8.11766863e-01],\n",
       "       [7.63305664e-01],\n",
       "       [2.25905776e-02],\n",
       "       [8.64392102e-01],\n",
       "       [3.62815738e-01],\n",
       "       [2.20589936e-02],\n",
       "       [8.64392102e-01],\n",
       "       [8.64392102e-01],\n",
       "       [9.02891159e-03],\n",
       "       [8.64392102e-01],\n",
       "       [2.83993185e-02],\n",
       "       [2.88160443e-02],\n",
       "       [3.06009054e-02],\n",
       "       [8.64392102e-01],\n",
       "       [8.64392102e-01],\n",
       "       [6.20240450e-01],\n",
       "       [9.38224792e-03],\n",
       "       [7.42131472e-02],\n",
       "       [1.69438124e-03],\n",
       "       [2.06386447e-02],\n",
       "       [8.64392102e-01],\n",
       "       [2.14205384e-02],\n",
       "       [7.94216990e-03],\n",
       "       [8.64392102e-01],\n",
       "       [8.25749993e-01],\n",
       "       [8.17266226e-01],\n",
       "       [8.64392102e-01],\n",
       "       [2.64953673e-02],\n",
       "       [8.64392102e-01],\n",
       "       [2.75611579e-02],\n",
       "       [3.25385332e-02],\n",
       "       [8.64392102e-01],\n",
       "       [6.40454173e-01],\n",
       "       [6.85656369e-02],\n",
       "       [8.64392102e-01],\n",
       "       [8.96612406e-02],\n",
       "       [8.20852160e-01],\n",
       "       [2.47682035e-02],\n",
       "       [8.92415643e-03],\n",
       "       [7.05870986e-03],\n",
       "       [8.64392102e-01],\n",
       "       [7.37610757e-01],\n",
       "       [5.82903624e-03],\n",
       "       [2.73174644e-02],\n",
       "       [1.98721290e-02],\n",
       "       [8.64392102e-01],\n",
       "       [1.06165707e-02],\n",
       "       [2.15807557e-02],\n",
       "       [8.64392102e-01],\n",
       "       [8.12983513e-03],\n",
       "       [2.49916315e-03],\n",
       "       [2.23642290e-02],\n",
       "       [1.48707628e-02],\n",
       "       [8.64392102e-01],\n",
       "       [5.33708930e-03],\n",
       "       [8.64392102e-01],\n",
       "       [2.23845243e-04],\n",
       "       [4.44707245e-01],\n",
       "       [8.64392102e-01],\n",
       "       [1.07406378e-02],\n",
       "       [2.56682038e-02],\n",
       "       [3.00132632e-02],\n",
       "       [3.00467014e-04],\n",
       "       [3.33458185e-04],\n",
       "       [9.53766704e-03],\n",
       "       [8.64392102e-01],\n",
       "       [7.08773375e-01],\n",
       "       [3.47799957e-02],\n",
       "       [1.63658559e-02],\n",
       "       [1.16024911e-02],\n",
       "       [2.94744968e-04],\n",
       "       [1.23114295e-01]], dtype=float32)"
      ]
     },
     "execution_count": 31,
     "metadata": {},
     "output_type": "execute_result"
    }
   ],
   "source": [
    "model.predict(scaled_X_test)"
   ]
  },
  {
   "cell_type": "code",
   "execution_count": 33,
   "metadata": {},
   "outputs": [],
   "source": [
    "#model.predict_classes(scaled_X_test)"
   ]
  },
  {
   "cell_type": "code",
   "execution_count": 34,
   "metadata": {},
   "outputs": [
    {
     "data": {
      "text/plain": [
       "['loss', 'accuracy']"
      ]
     },
     "execution_count": 34,
     "metadata": {},
     "output_type": "execute_result"
    }
   ],
   "source": [
    "#Evaluating model metrics\n",
    "model.metrics_names"
   ]
  },
  {
   "cell_type": "code",
   "execution_count": 46,
   "metadata": {},
   "outputs": [
    {
     "name": "stdout",
     "output_type": "stream",
     "text": [
      "453/453 [==============================] - 0s 117us/step\n"
     ]
    },
    {
     "data": {
      "text/plain": [
       "[0.13673589904083322, 0.9757174253463745]"
      ]
     },
     "execution_count": 46,
     "metadata": {},
     "output_type": "execute_result"
    }
   ],
   "source": [
    "model.evaluate(x=scaled_X_test,y=y_test)"
   ]
  },
  {
   "cell_type": "code",
   "execution_count": 36,
   "metadata": {},
   "outputs": [],
   "source": [
    "from sklearn.metrics import confusion_matrix,classification_report"
   ]
  },
  {
   "cell_type": "code",
   "execution_count": 41,
   "metadata": {},
   "outputs": [],
   "source": [
    "predictions=model.predict_classes(scaled_X_test)"
   ]
  },
  {
   "cell_type": "code",
   "execution_count": 42,
   "metadata": {},
   "outputs": [
    {
     "data": {
      "text/plain": [
       "array([[256,   1],\n",
       "       [ 10, 186]], dtype=int64)"
      ]
     },
     "execution_count": 42,
     "metadata": {},
     "output_type": "execute_result"
    }
   ],
   "source": [
    "confusion_matrix(y_test,predictions)"
   ]
  },
  {
   "cell_type": "code",
   "execution_count": 43,
   "metadata": {},
   "outputs": [
    {
     "name": "stdout",
     "output_type": "stream",
     "text": [
      "              precision    recall  f1-score   support\n",
      "\n",
      "         0.0       0.96      1.00      0.98       257\n",
      "         1.0       0.99      0.95      0.97       196\n",
      "\n",
      "    accuracy                           0.98       453\n",
      "   macro avg       0.98      0.97      0.98       453\n",
      "weighted avg       0.98      0.98      0.98       453\n",
      "\n"
     ]
    }
   ],
   "source": [
    "print(classification_report(y_test,predictions))"
   ]
  },
  {
   "cell_type": "code",
   "execution_count": 44,
   "metadata": {},
   "outputs": [],
   "source": [
    "#saving Model\n",
    "model.save('kerasmodel.h5')"
   ]
  },
  {
   "cell_type": "code",
   "execution_count": null,
   "metadata": {},
   "outputs": [],
   "source": []
  }
 ],
 "metadata": {
  "kernelspec": {
   "display_name": "Python 3",
   "language": "python",
   "name": "python3"
  },
  "language_info": {
   "codemirror_mode": {
    "name": "ipython",
    "version": 3
   },
   "file_extension": ".py",
   "mimetype": "text/x-python",
   "name": "python",
   "nbconvert_exporter": "python",
   "pygments_lexer": "ipython3",
   "version": "3.7.4"
  }
 },
 "nbformat": 4,
 "nbformat_minor": 2
}
